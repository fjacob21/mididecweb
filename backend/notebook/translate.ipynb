{
 "cells": [
  {
   "cell_type": "code",
   "execution_count": 8,
   "metadata": {},
   "outputs": [],
   "source": [
    "from googletrans import Translator\n",
    "import json"
   ]
  },
  {
   "cell_type": "code",
   "execution_count": 2,
   "metadata": {},
   "outputs": [],
   "source": [
    "translator = Translator()"
   ]
  },
  {
   "cell_type": "code",
   "execution_count": 4,
   "metadata": {},
   "outputs": [],
   "source": [
    "t = translator.translate('안녕하세요.')"
   ]
  },
  {
   "cell_type": "code",
   "execution_count": 7,
   "metadata": {},
   "outputs": [
    {
     "data": {
      "text/plain": [
       "'Good morning.'"
      ]
     },
     "execution_count": 7,
     "metadata": {},
     "output_type": "execute_result"
    }
   ],
   "source": [
    "t.text"
   ]
  },
  {
   "cell_type": "code",
   "execution_count": 33,
   "metadata": {},
   "outputs": [],
   "source": [
    "data = {}\n",
    "with open('../../frontend/modules/localization/en-CA.json') as f:\n",
    "    data = json.load(f)"
   ]
  },
  {
   "cell_type": "code",
   "execution_count": 34,
   "metadata": {},
   "outputs": [],
   "source": [
    "def translate(data, src, dest, outfile):\n",
    "    res = {}\n",
    "    for key in data:\n",
    "        res[key] = translator.translate(data[key], src=src, dest=dest).text\n",
    "    with open('../../frontend/modules/localization/'+ outfile, 'w') as f:\n",
    "        json.dump(res, f, ensure_ascii=False)"
   ]
  },
  {
   "cell_type": "code",
   "execution_count": 41,
   "metadata": {},
   "outputs": [],
   "source": [
    "translate(data, 'en', 'es', 'es.json')"
   ]
  },
  {
   "cell_type": "code",
   "execution_count": 32,
   "metadata": {},
   "outputs": [
    {
     "data": {
      "text/plain": [
       "{'lang': 'English Canada',\n",
       " 'event_add_success': \"l'événement a été enregistré\",\n",
       " 'event_title_label': 'Title',\n",
       " 'event_description_label': 'Description',\n",
       " 'event_start_date_label': 'Start',\n",
       " 'event_duration_label': 'Duration',\n",
       " 'event_max_attendee_label': 'Max Attendee',\n",
       " 'event_location_label': 'Location',\n",
       " 'event_organizer_name_label': 'Organizer',\n",
       " 'event_organizer_email_label': 'Organizer email',\n",
       " 'event_add_add_bt_label': 'Add',\n",
       " 'cancel': 'Cancel',\n",
       " 'user_invalid_email': 'Sorry this email is already used',\n",
       " 'user_invalid_alias': 'Sorry this alias is already used',\n",
       " 'user_add_title': 'Register',\n",
       " 'name': 'Name',\n",
       " 'user_email_label': 'Email',\n",
       " 'user_alias_label': 'Alias',\n",
       " 'password': 'Password',\n",
       " 'user_phone_label': 'Cell.',\n",
       " 'user_useemail_label': 'Receive email notifications',\n",
       " 'user_usesms_label': 'Receive sms notification',\n",
       " 'user_add_add_label': 'Register',\n",
       " 'nav_useradmin_label': 'Users admin',\n",
       " 'nav_eventadmin_label': 'Events admin',\n",
       " 'nav_create_event_label': 'Add event',\n",
       " 'profile': 'Profile',\n",
       " 'logout': 'Logout',\n",
       " 'nav_user_add_label': 'Register',\n",
       " 'login': 'Login',\n",
       " 'nav_home_label': 'Home',\n",
       " 'err_invalid_event_msg': 'This event do not exist',\n",
       " 'err_invalid_request_msg': 'Invalid request format',\n",
       " 'err_missing_params_msg': 'Missing request parameters',\n",
       " 'err_access_denied_msg': 'Access denied',\n",
       " 'err_invalid_login_msg': 'Invalid user or password',\n",
       " 'err_login_needed_msg': 'You need to be connected',\n",
       " 'err_not_registered_msg': 'You are not registered to this event',\n",
       " 'err_sending_email_msg': 'Error when sending emails',\n",
       " 'err_invalid_user_msg': 'Invalid user',\n",
       " 'err_validation_required_msg': 'You need to validate your account before you can connect',\n",
       " 'err_no_avatar_msg': 'This user do not have avatar',\n",
       " 'err_invalid_sms_code_msg': 'Invalid validation code',\n",
       " 'event_organizer_label': 'Organizer',\n",
       " 'event_details_label': 'Description',\n",
       " 'event_attendees_label': 'Attendees',\n",
       " 'event_add_to_calendar_label': 'Add to calendar',\n",
       " 'event_register_success_msg': 'You are now registered for this event',\n",
       " 'event_register_already_registered_msg': 'You are already registered for this event',\n",
       " 'event_register_waiting_msg': 'Sorry there is no more spot left for this event! But you are now on the waiting list',\n",
       " 'event_register_already_waiting_msg': 'You are already on the waiting list',\n",
       " 'event_unregister_success_msg': 'You are not registered for this event anymore ',\n",
       " 'event_delete_success_msg': 'The event have been successfully been removed',\n",
       " 'events_title': 'Events',\n",
       " 'event_delete_confirm_msg': 'Are you sure you want to delete this event',\n",
       " 'yes': 'Yes',\n",
       " 'no': 'No',\n",
       " 'event_registered_number_label': 'registered peoples',\n",
       " 'event_left_spots_label': 'spots left',\n",
       " 'none': 'None',\n",
       " 'next_events': 'Next events',\n",
       " 'previous_events': 'Previous events',\n",
       " 'user': 'User',\n",
       " 'presence': 'Presences',\n",
       " 'signature': 'Signature',\n",
       " 'print': 'Print',\n",
       " 'event_register_question_msg': 'Are you going?',\n",
       " 'register_status_registered': 'Registered',\n",
       " 'register_status_waitinglist': 'On the waiting list',\n",
       " 'unregister': 'Unregister',\n",
       " 'save': 'Save',\n",
       " 'publish': 'Publish',\n",
       " 'update_success': 'Update success',\n",
       " 'sms_code_send_success': 'SMS validation code send',\n",
       " 'phone_validated_msg': 'You phone is now validated',\n",
       " 'access': 'Access',\n",
       " 'normal_access': 'Normal',\n",
       " 'manager_access': 'Manager',\n",
       " 'super_access': 'Super',\n",
       " 'email_already_used_msg': 'Sorry this email is already used',\n",
       " 'alias_already_used_msg': 'Sorry this alias is already used',\n",
       " 'validation_code': 'Validation code',\n",
       " 'validation': 'Validation',\n",
       " 'send_code': 'Send code',\n",
       " 'change_avatar': 'Change avatar',\n",
       " 'user_delete_success': 'User deleted',\n",
       " 'users': 'Users',\n",
       " 'user_delete_confirmation': 'Are you sure you want to delete this user',\n",
       " 'comments': 'Comments',\n",
       " 'github': 'Github'}"
      ]
     },
     "execution_count": 32,
     "metadata": {},
     "output_type": "execute_result"
    }
   ],
   "source": [
    "data"
   ]
  },
  {
   "cell_type": "code",
   "execution_count": null,
   "metadata": {},
   "outputs": [],
   "source": []
  }
 ],
 "metadata": {
  "kernelspec": {
   "display_name": "Python 3",
   "language": "python",
   "name": "python3"
  },
  "language_info": {
   "codemirror_mode": {
    "name": "ipython",
    "version": 3
   },
   "file_extension": ".py",
   "mimetype": "text/x-python",
   "name": "python",
   "nbconvert_exporter": "python",
   "pygments_lexer": "ipython3",
   "version": "3.6.5"
  }
 },
 "nbformat": 4,
 "nbformat_minor": 2
}

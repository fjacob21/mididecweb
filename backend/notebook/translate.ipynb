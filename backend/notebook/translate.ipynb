{
 "cells": [
  {
   "cell_type": "code",
   "execution_count": 1,
   "metadata": {},
   "outputs": [],
   "source": [
    "from googletrans import Translator, LANGUAGES\n",
    "import json\n",
    "import requests"
   ]
  },
  {
   "cell_type": "code",
   "execution_count": 2,
   "metadata": {},
   "outputs": [],
   "source": [
    "def google_translate(text, src, dest):\n",
    "    translator = Translator()\n",
    "    return translator.translate(text, src=src, dest=dest).text"
   ]
  },
  {
   "cell_type": "code",
   "execution_count": 3,
   "metadata": {},
   "outputs": [],
   "source": [
    "def microsoft_translate(text, src, dest):\n",
    "    headers = {'Ocp-Apim-Subscription-Key': 'dc09a60872a64b859c427150ef59cebe'}\n",
    "    token = requests.post('https://api.cognitive.microsoft.com/sts/v1.0/issueToken/', headers=headers, data={})\n",
    "    headers = {'Authorization': 'Bearer '+token.text, 'Content-Type': 'application/json'}\n",
    "    data = [{\"Text\":text}]\n",
    "\n",
    "    r=requests.post('https://api.cognitive.microsofttranslator.com/translate?api-version=3.0', params={'to':dest, 'from':src},headers=headers, json=data)\n",
    "    return r.json()[0]['translations'][0]['text']"
   ]
  },
  {
   "cell_type": "code",
   "execution_count": 4,
   "metadata": {},
   "outputs": [],
   "source": [
    "def openfile(file):\n",
    "    data = {}\n",
    "    with open('../../frontend/modules/localization/'+file) as f:\n",
    "        data = json.load(f)\n",
    "    return data"
   ]
  },
  {
   "cell_type": "code",
   "execution_count": 5,
   "metadata": {},
   "outputs": [],
   "source": [
    "data = openfile('en-CA.json')"
   ]
  },
  {
   "cell_type": "code",
   "execution_count": 6,
   "metadata": {},
   "outputs": [],
   "source": [
    "def translate(data, src, dest, outfile, translator=google_translate):\n",
    "    out_data = openfile(outfile)\n",
    "    lang = LANGUAGES[dest]\n",
    "    lang = translator(lang, src=src, dest=dest)\n",
    "    res = {}\n",
    "    for key in data:\n",
    "        if key not in out_data:\n",
    "            if not key == 'lang':\n",
    "                print('Translate new', dest, data[key])\n",
    "                res[key] = translator(data[key], src, dest)\n",
    "        else:\n",
    "            #trans = translator(data[key], src, dest)\n",
    "            #if out_data[key] != trans:\n",
    "             #   print(dest, key, 'Google:', out_data[key], 'Microsoft:', trans)\n",
    "            res[key] = out_data[key]\n",
    "    if not res['lang']:\n",
    "        print('Set lang')\n",
    "        res['lang'] = lang\n",
    "    with open('../../frontend/modules/localization/'+ outfile, 'w') as f:\n",
    "        json.dump(res, f, ensure_ascii=False)"
   ]
  },
  {
   "cell_type": "code",
   "execution_count": 7,
   "metadata": {},
   "outputs": [],
   "source": [
    "langs = ['ar', 'it', 'ja', 'de', 'ru', 'es']\n",
    "for lang in langs:\n",
    "    translate(data, 'en', lang, lang+'.json', microsoft_translate)"
   ]
  },
  {
   "cell_type": "code",
   "execution_count": 9,
   "metadata": {},
   "outputs": [],
   "source": [
    "headers = {'Ocp-Apim-Subscription-Key': 'dc09a60872a64b859c427150ef59cebe'}\n",
    "token = requests.post('https://api.cognitive.microsoft.com/sts/v1.0/issueToken/', headers=headers, data={})"
   ]
  },
  {
   "cell_type": "code",
   "execution_count": 58,
   "metadata": {},
   "outputs": [
    {
     "data": {
      "text/plain": [
       "'eyJ0eXAiOiJKV1QiLCJhbGciOiJIUzI1NiJ9.eyJpc3MiOiJ1cm46bXMuY29nbml0aXZlc2VydmljZXMiLCJleHAiOiIxNTI4NTAxMjA3IiwicmVnaW9uIjoiZ2xvYmFsIiwic3Vic2NyaXB0aW9uLWlkIjoiZTNhMDAyZTUwZmRiNDAzZTkxMTc4NjU3MWQxNjNmODciLCJwcm9kdWN0LWlkIjoiVGV4dFRyYW5zbGF0b3IuRjAiLCJjb2duaXRpdmUtc2VydmljZXMtZW5kcG9pbnQiOiJodHRwczovL2FwaS5jb2duaXRpdmUubWljcm9zb2Z0LmNvbS9pbnRlcm5hbC92MS4wLyIsImF6dXJlLXJlc291cmNlLWlkIjoiL3N1YnNjcmlwdGlvbnMvZDFmN2UxNTctYmY5Ni00OTI4LTk5MWYtOWFiMTQ5MWU0ZjM4L3Jlc291cmNlR3JvdXBzL3Rlc3QvcHJvdmlkZXJzL01pY3Jvc29mdC5Db2duaXRpdmVTZXJ2aWNlcy9hY2NvdW50cy9UZXN0Iiwic2NvcGUiOiJodHRwczovL2FwaS5taWNyb3NvZnR0cmFuc2xhdG9yLmNvbS8iLCJhdWQiOiJ1cm46bXMubWljcm9zb2Z0dHJhbnNsYXRvciJ9.JgfuolgkxEGoBDXGSqXFfTNIO15opdtLvbXpEyG-T2Q'"
      ]
     },
     "execution_count": 58,
     "metadata": {},
     "output_type": "execute_result"
    }
   ],
   "source": [
    "token.text"
   ]
  },
  {
   "cell_type": "code",
   "execution_count": 27,
   "metadata": {},
   "outputs": [],
   "source": [
    "import json\n",
    "headers = {'Authorization': 'Bearer '+token.text, 'Content-Type': 'application/json'}\n",
    "data = [{\"Text\":\"I would really like to drive your car around the block a few times.\"}]\n",
    "\n",
    "r=requests.post('https://api.cognitive.microsofttranslator.com/translate?api-version=3.0', params={'to':'tlh'},headers=headers, json=data)"
   ]
  },
  {
   "cell_type": "code",
   "execution_count": 28,
   "metadata": {},
   "outputs": [
    {
     "data": {
      "text/plain": [
       "'[{\"detectedLanguage\":{\"language\":\"en\",\"score\":1.0},\"translations\":[{\"text\":\"qabDaq puH Duj around bot yItungHa\\', qaH QaQ puS poH qar vIneH.\",\"to\":\"tlh\"}]}]'"
      ]
     },
     "execution_count": 28,
     "metadata": {},
     "output_type": "execute_result"
    }
   ],
   "source": [
    "r.text"
   ]
  },
  {
   "cell_type": "code",
   "execution_count": 73,
   "metadata": {},
   "outputs": [
    {
     "data": {
      "text/plain": [
       "'[{\"Text\": \"I would really like to drive your car around the block a few times.\"}]'"
      ]
     },
     "execution_count": 73,
     "metadata": {},
     "output_type": "execute_result"
    }
   ],
   "source": [
    "json.dumps(data)"
   ]
  },
  {
   "cell_type": "code",
   "execution_count": 46,
   "metadata": {},
   "outputs": [
    {
     "data": {
      "text/plain": [
       "'nuqneH'"
      ]
     },
     "execution_count": 46,
     "metadata": {},
     "output_type": "execute_result"
    }
   ],
   "source": [
    "microsoft_translate('bonjour', 'fr', 'tlh')"
   ]
  },
  {
   "cell_type": "code",
   "execution_count": 43,
   "metadata": {},
   "outputs": [
    {
     "data": {
      "text/plain": [
       "\"qabDaq puH Duj around bot yItungHa', qaH QaQ puS poH qar vIneH.\""
      ]
     },
     "execution_count": 43,
     "metadata": {},
     "output_type": "execute_result"
    }
   ],
   "source": [
    "r.json()[0]['translations'][0]['text']"
   ]
  },
  {
   "cell_type": "code",
   "execution_count": null,
   "metadata": {},
   "outputs": [],
   "source": []
  }
 ],
 "metadata": {
  "kernelspec": {
   "display_name": "Python 3",
   "language": "python",
   "name": "python3"
  },
  "language_info": {
   "codemirror_mode": {
    "name": "ipython",
    "version": 3
   },
   "file_extension": ".py",
   "mimetype": "text/x-python",
   "name": "python",
   "nbconvert_exporter": "python",
   "pygments_lexer": "ipython3",
   "version": "3.7.0"
  }
 },
 "nbformat": 4,
 "nbformat_minor": 2
}

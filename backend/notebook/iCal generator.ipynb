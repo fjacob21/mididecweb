{
 "cells": [
  {
   "cell_type": "code",
   "execution_count": 14,
   "metadata": {},
   "outputs": [],
   "source": [
    "from icalendar import Calendar, Event, vCalAddress, vText, Alarm\n",
    "from datetime import datetime\n",
    "import pytz\n",
    "import tempfile, os"
   ]
  },
  {
   "cell_type": "code",
   "execution_count": 2,
   "metadata": {
    "collapsed": true
   },
   "outputs": [],
   "source": [
    "year = 2018\n",
    "month = 3\n",
    "day = 31\n",
    "hour = 12\n",
    "minute = 15"
   ]
  },
  {
   "cell_type": "code",
   "execution_count": 3,
   "metadata": {
    "collapsed": true
   },
   "outputs": [],
   "source": [
    "cal = Calendar()\n",
    "cal['dtstart'] = datetime(year,month,day,hour,minute,0,tzinfo=pytz.timezone(\"America/New_York\"))\n",
    "cal['summary'] = 'Python meeting about calendaring'"
   ]
  },
  {
   "cell_type": "code",
   "execution_count": 4,
   "metadata": {
    "collapsed": true
   },
   "outputs": [],
   "source": [
    "event = Event()\n",
    "event['uid'] = '42'\n",
    "event.add('summary', 'Python meeting about calendaring')\n",
    "event.add('description', 'Python meeting about calendaring')\n",
    "event.add('X-MICROSOFT-CDO-BUSYSTATUS', 'BUSY')\n",
    "event.add('dtstart', datetime(year,month,day,hour,minute,0,tzinfo=pytz.timezone(\"America/New_York\")))\n",
    "event.add('dtend', datetime(year,month,day,hour+1,minute,0,tzinfo=pytz.timezone(\"America/New_York\")))\n",
    "event.add('dtstamp', datetime(year,month,day,0,10,0,tzinfo=pytz.timezone(\"America/New_York\")))\n",
    "cal.add_component(event)"
   ]
  },
  {
   "cell_type": "code",
   "execution_count": 5,
   "metadata": {},
   "outputs": [],
   "source": [
    "organizer = vCalAddress('MAILTO:fjacob@matrox.com')\n",
    "organizer.params['cn'] = vText('Frederic Jacob')\n",
    "organizer.params['role'] = vText('Organizer')\n",
    "event['organizer'] = organizer\n",
    "event['location'] = vText('3.B6')"
   ]
  },
  {
   "cell_type": "code",
   "execution_count": 11,
   "metadata": {},
   "outputs": [],
   "source": [
    "alarm = Alarm()\n",
    "alarm['ACTION'] = 'DISPLAY'\n",
    "alarm['DESCRIPTION'] = 'test'\n",
    "alarm['TRIGGER'] = '-PT0M'\n",
    "event.add_component(alarm)"
   ]
  },
  {
   "cell_type": "code",
   "execution_count": 12,
   "metadata": {
    "collapsed": true
   },
   "outputs": [],
   "source": [
    "def display(cal):\n",
    "    return cal.to_ical().decode().replace('\\r\\n', '\\n').strip()"
   ]
  },
  {
   "cell_type": "code",
   "execution_count": 13,
   "metadata": {},
   "outputs": [
    {
     "name": "stdout",
     "output_type": "stream",
     "text": [
      "BEGIN:VCALENDAR\n",
      "DTSTART:2018-03-31 12:15:00-04:56\n",
      "SUMMARY:Python meeting about calendaring\n",
      "BEGIN:VEVENT\n",
      "SUMMARY:Python meeting about calendaring\n",
      "DTSTART;TZID=America/New_York;VALUE=DATE-TIME:20180331T121500\n",
      "DTSTART;TZID=America/New_York;VALUE=DATE-TIME:20180331T115000\n",
      "DTEND;TZID=America/New_York;VALUE=DATE-TIME:20180331T131500\n",
      "DTSTAMP;VALUE=DATE-TIME:20180331T050600Z\n",
      "UID:42\n",
      "DESCRIPTION:Python meeting about calendaring\n",
      "LOCATION:3.B6\n",
      "ORGANIZER;CN=\"Frederic Jacob\";ROLE=Organizer:MAILTO:fjacob@matrox.com\n",
      "X-MICROSOFT-CDO-BUSYSTATUS:BUSY\n",
      "BEGIN:VALARM\n",
      "ACTION:DISPLAY\n",
      "DESCRIPTION:test\n",
      "TRIGGER:-PT0M\n",
      "END:VALARM\n",
      "END:VEVENT\n",
      "END:VCALENDAR\n"
     ]
    }
   ],
   "source": [
    "print(display(cal))"
   ]
  },
  {
   "cell_type": "code",
   "execution_count": 15,
   "metadata": {
    "collapsed": true
   },
   "outputs": [],
   "source": [
    "f = open('example.ics', 'wb')\n",
    "f.write(cal.to_ical())\n",
    "f.close()"
   ]
  },
  {
   "cell_type": "code",
   "execution_count": null,
   "metadata": {
    "collapsed": true
   },
   "outputs": [],
   "source": []
  }
 ],
 "metadata": {
  "kernelspec": {
   "display_name": "Python 3",
   "language": "python",
   "name": "python3"
  },
  "language_info": {
   "codemirror_mode": {
    "name": "ipython",
    "version": 3
   },
   "file_extension": ".py",
   "mimetype": "text/x-python",
   "name": "python",
   "nbconvert_exporter": "python",
   "pygments_lexer": "ipython3",
   "version": "3.4.3"
  }
 },
 "nbformat": 4,
 "nbformat_minor": 2
}

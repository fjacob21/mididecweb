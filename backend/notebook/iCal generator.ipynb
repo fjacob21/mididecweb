{
 "cells": [
  {
   "cell_type": "code",
   "execution_count": 1,
   "metadata": {
    "collapsed": true
   },
   "outputs": [],
   "source": [
    "from icalendar import Calendar, Event, vCalAddress, vText, Alarm\n",
    "from datetime import datetime, timedelta\n",
    "import pytz\n",
    "import tempfile, os\n",
    "import hashlib\n",
    "import random"
   ]
  },
  {
   "cell_type": "code",
   "execution_count": 2,
   "metadata": {
    "collapsed": true
   },
   "outputs": [],
   "source": [
    "year = 2018\n",
    "month = 3\n",
    "day = 31\n",
    "hour = 12\n",
    "minute = 15"
   ]
  },
  {
   "cell_type": "code",
   "execution_count": 3,
   "metadata": {
    "collapsed": true
   },
   "outputs": [],
   "source": [
    "cal = Calendar()\n",
    "cal['dtstart'] = datetime(year,month,day,hour,minute,0,tzinfo=pytz.timezone(\"America/New_York\"))\n",
    "cal['summary'] = 'Python meeting about calendaring'"
   ]
  },
  {
   "cell_type": "code",
   "execution_count": 4,
   "metadata": {
    "collapsed": true
   },
   "outputs": [],
   "source": [
    "event = Event()\n",
    "event['uid'] = '42'\n",
    "event.add('summary', 'Python meeting about calendaring')\n",
    "event.add('description', 'Python meeting about calendaring')\n",
    "event.add('X-MICROSOFT-CDO-BUSYSTATUS', 'BUSY')\n",
    "event.add('dtstart', datetime(year,month,day,hour,minute,0,tzinfo=pytz.timezone(\"America/New_York\")))\n",
    "event.add('dtend', datetime(year,month,day,hour+1,minute,0,tzinfo=pytz.timezone(\"America/New_York\")))\n",
    "event.add('dtstamp', datetime(year,month,day,0,10,0,tzinfo=pytz.timezone(\"America/New_York\")))\n",
    "cal.add_component(event)"
   ]
  },
  {
   "cell_type": "code",
   "execution_count": 5,
   "metadata": {
    "collapsed": true
   },
   "outputs": [],
   "source": [
    "organizer = vCalAddress('MAILTO:fjacob@matrox.com')\n",
    "organizer.params['cn'] = vText('Frederic Jacob')\n",
    "organizer.params['role'] = vText('Organizer')\n",
    "event['organizer'] = organizer\n",
    "event['location'] = vText('3.B6')"
   ]
  },
  {
   "cell_type": "code",
   "execution_count": 6,
   "metadata": {
    "collapsed": true
   },
   "outputs": [],
   "source": [
    "alarm = Alarm()\n",
    "alarm['ACTION'] = 'DISPLAY'\n",
    "alarm['DESCRIPTION'] = 'test'\n",
    "alarm['TRIGGER'] = '-PT0M'\n",
    "event.add_component(alarm)"
   ]
  },
  {
   "cell_type": "code",
   "execution_count": 7,
   "metadata": {
    "collapsed": true
   },
   "outputs": [],
   "source": [
    "def display(cal):\n",
    "    return cal.to_ical().decode().replace('\\r\\n', '\\n').strip()"
   ]
  },
  {
   "cell_type": "code",
   "execution_count": 8,
   "metadata": {},
   "outputs": [
    {
     "name": "stdout",
     "output_type": "stream",
     "text": [
      "BEGIN:VCALENDAR\n",
      "DTSTART:2018-03-31 12:15:00-04:56\n",
      "SUMMARY:Python meeting about calendaring\n",
      "BEGIN:VEVENT\n",
      "SUMMARY:Python meeting about calendaring\n",
      "DTSTART;TZID=America/New_York;VALUE=DATE-TIME:20180331T121500\n",
      "DTEND;TZID=America/New_York;VALUE=DATE-TIME:20180331T131500\n",
      "DTSTAMP;VALUE=DATE-TIME:20180331T050600Z\n",
      "UID:42\n",
      "DESCRIPTION:Python meeting about calendaring\n",
      "LOCATION:3.B6\n",
      "ORGANIZER;CN=\"Frederic Jacob\";ROLE=Organizer:MAILTO:fjacob@matrox.com\n",
      "X-MICROSOFT-CDO-BUSYSTATUS:BUSY\n",
      "BEGIN:VALARM\n",
      "ACTION:DISPLAY\n",
      "DESCRIPTION:test\n",
      "TRIGGER:-PT0M\n",
      "END:VALARM\n",
      "END:VEVENT\n",
      "END:VCALENDAR\n"
     ]
    }
   ],
   "source": [
    "print(display(cal))"
   ]
  },
  {
   "cell_type": "code",
   "execution_count": 15,
   "metadata": {
    "collapsed": true
   },
   "outputs": [],
   "source": [
    "f = open('example.ics', 'wb')\n",
    "f.write(cal.to_ical())\n",
    "f.close()"
   ]
  },
  {
   "cell_type": "code",
   "execution_count": 32,
   "metadata": {},
   "outputs": [
    {
     "data": {
      "text/plain": [
       "'2018-03-22T22:36:42Z'"
      ]
     },
     "execution_count": 32,
     "metadata": {},
     "output_type": "execute_result"
    }
   ],
   "source": [
    "n = datetime.now(pytz.timezone(\"America/New_York\"))\n",
    "duration = timedelta(seconds=3600)\n",
    "n.strftime(\"%Y-%m-%dT%H:%M:%SZ\")"
   ]
  },
  {
   "cell_type": "code",
   "execution_count": 14,
   "metadata": {},
   "outputs": [
    {
     "data": {
      "text/plain": [
       "'d872b025b5eb4c462b986884562c8b7b8c3b751bba6a39e940dae310ba2d5175'"
      ]
     },
     "execution_count": 14,
     "metadata": {},
     "output_type": "execute_result"
    }
   ],
   "source": [
    "hash = hashlib.sha256()\n",
    "start = \"20180331T131500\"\n",
    "title = \"test\"\n",
    "salt = str(random.randint(1, 1000))\n",
    "hash.update((start + title + salt).encode())\n",
    "hash.hexdigest()"
   ]
  },
  {
   "cell_type": "code",
   "execution_count": 31,
   "metadata": {},
   "outputs": [
    {
     "data": {
      "text/plain": [
       "True"
      ]
     },
     "execution_count": 31,
     "metadata": {},
     "output_type": "execute_result"
    }
   ],
   "source": [
    "t = ''\n",
    "type(t) == str"
   ]
  },
  {
   "cell_type": "code",
   "execution_count": 33,
   "metadata": {},
   "outputs": [
    {
     "data": {
      "text/plain": [
       "datetime.datetime(2018, 3, 22, 22, 36, 42)"
      ]
     },
     "execution_count": 33,
     "metadata": {},
     "output_type": "execute_result"
    }
   ],
   "source": [
    "datetime.strptime(n.strftime(\"%Y-%m-%dT%H:%M:%SZ\"), \"%Y-%m-%dT%H:%M:%SZ\")"
   ]
  },
  {
   "cell_type": "code",
   "execution_count": 43,
   "metadata": {
    "collapsed": true
   },
   "outputs": [],
   "source": [
    "t = [1,2]"
   ]
  },
  {
   "cell_type": "code",
   "execution_count": 44,
   "metadata": {},
   "outputs": [],
   "source": [
    "del t[0]"
   ]
  },
  {
   "cell_type": "code",
   "execution_count": 9,
   "metadata": {},
   "outputs": [
    {
     "ename": "ValueError",
     "evalue": "Content line could not be parsed into parts: 'test': Invalid content line",
     "output_type": "error",
     "traceback": [
      "\u001b[0;31m---------------------------------------------------------------------------\u001b[0m",
      "\u001b[0;31mValueError\u001b[0m                                Traceback (most recent call last)",
      "\u001b[0;32m/Library/Frameworks/Python.framework/Versions/3.4/lib/python3.4/site-packages/icalendar/parser.py\u001b[0m in \u001b[0;36mparts\u001b[0;34m(self)\u001b[0m\n\u001b[1;32m    341\u001b[0m             \u001b[0;32mif\u001b[0m \u001b[0;32mnot\u001b[0m \u001b[0mname_split\u001b[0m \u001b[0;32mor\u001b[0m \u001b[0mname_split\u001b[0m \u001b[0;34m+\u001b[0m \u001b[0;36m1\u001b[0m \u001b[0;34m==\u001b[0m \u001b[0mvalue_split\u001b[0m\u001b[0;34m:\u001b[0m\u001b[0;34m\u001b[0m\u001b[0m\n\u001b[0;32m--> 342\u001b[0;31m                 \u001b[0;32mraise\u001b[0m \u001b[0mValueError\u001b[0m\u001b[0;34m(\u001b[0m\u001b[0;34m'Invalid content line'\u001b[0m\u001b[0;34m)\u001b[0m\u001b[0;34m\u001b[0m\u001b[0m\n\u001b[0m\u001b[1;32m    343\u001b[0m             params = Parameters.from_ical(st[name_split + 1: value_split],\n",
      "\u001b[0;31mValueError\u001b[0m: Invalid content line",
      "\nDuring handling of the above exception, another exception occurred:\n",
      "\u001b[0;31mValueError\u001b[0m                                Traceback (most recent call last)",
      "\u001b[0;32m<ipython-input-9-ad318629f7af>\u001b[0m in \u001b[0;36m<module>\u001b[0;34m()\u001b[0m\n\u001b[0;32m----> 1\u001b[0;31m \u001b[0mcal\u001b[0m\u001b[0;34m.\u001b[0m\u001b[0mfrom_ical\u001b[0m\u001b[0;34m(\u001b[0m\u001b[0;34m\"test\"\u001b[0m\u001b[0;34m)\u001b[0m\u001b[0;34m\u001b[0m\u001b[0m\n\u001b[0m",
      "\u001b[0;32m/Library/Frameworks/Python.framework/Versions/3.4/lib/python3.4/site-packages/icalendar/cal.py\u001b[0m in \u001b[0;36mfrom_ical\u001b[0;34m(cls, st, multiple)\u001b[0m\n\u001b[1;32m    328\u001b[0m \u001b[0;34m\u001b[0m\u001b[0m\n\u001b[1;32m    329\u001b[0m             \u001b[0;32mtry\u001b[0m\u001b[0;34m:\u001b[0m\u001b[0;34m\u001b[0m\u001b[0m\n\u001b[0;32m--> 330\u001b[0;31m                 \u001b[0mname\u001b[0m\u001b[0;34m,\u001b[0m \u001b[0mparams\u001b[0m\u001b[0;34m,\u001b[0m \u001b[0mvals\u001b[0m \u001b[0;34m=\u001b[0m \u001b[0mline\u001b[0m\u001b[0;34m.\u001b[0m\u001b[0mparts\u001b[0m\u001b[0;34m(\u001b[0m\u001b[0;34m)\u001b[0m\u001b[0;34m\u001b[0m\u001b[0m\n\u001b[0m\u001b[1;32m    331\u001b[0m             \u001b[0;32mexcept\u001b[0m \u001b[0mValueError\u001b[0m \u001b[0;32mas\u001b[0m \u001b[0me\u001b[0m\u001b[0;34m:\u001b[0m\u001b[0;34m\u001b[0m\u001b[0m\n\u001b[1;32m    332\u001b[0m                 \u001b[0;31m# if unable to parse a line within a component\u001b[0m\u001b[0;34m\u001b[0m\u001b[0;34m\u001b[0m\u001b[0m\n",
      "\u001b[0;32m/Library/Frameworks/Python.framework/Versions/3.4/lib/python3.4/site-packages/icalendar/parser.py\u001b[0m in \u001b[0;36mparts\u001b[0;34m(self)\u001b[0m\n\u001b[1;32m    352\u001b[0m             raise ValueError(\n\u001b[1;32m    353\u001b[0m                 \u001b[0;34m\"Content line could not be parsed into parts: '%s': %s\"\u001b[0m\u001b[0;34m\u001b[0m\u001b[0m\n\u001b[0;32m--> 354\u001b[0;31m                 \u001b[0;34m%\u001b[0m \u001b[0;34m(\u001b[0m\u001b[0mself\u001b[0m\u001b[0;34m,\u001b[0m \u001b[0mexc\u001b[0m\u001b[0;34m)\u001b[0m\u001b[0;34m\u001b[0m\u001b[0m\n\u001b[0m\u001b[1;32m    355\u001b[0m             )\n\u001b[1;32m    356\u001b[0m \u001b[0;34m\u001b[0m\u001b[0m\n",
      "\u001b[0;31mValueError\u001b[0m: Content line could not be parsed into parts: 'test': Invalid content line"
     ]
    }
   ],
   "source": [
    "cal.from_ical(\"test\")"
   ]
  },
  {
   "cell_type": "code",
   "execution_count": null,
   "metadata": {
    "collapsed": true
   },
   "outputs": [],
   "source": []
  }
 ],
 "metadata": {
  "kernelspec": {
   "display_name": "Python 3",
   "language": "python",
   "name": "python3"
  },
  "language_info": {
   "codemirror_mode": {
    "name": "ipython",
    "version": 3
   },
   "file_extension": ".py",
   "mimetype": "text/x-python",
   "name": "python",
   "nbconvert_exporter": "python",
   "pygments_lexer": "ipython3",
   "version": "3.4.3"
  }
 },
 "nbformat": 4,
 "nbformat_minor": 2
}
